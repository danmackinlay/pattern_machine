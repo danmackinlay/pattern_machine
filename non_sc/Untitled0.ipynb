{
 "metadata": {
  "name": "",
  "signature": "sha256:6e179bbaca516f80d89da9da4c1fef50cbb8c4160351ad590c31347906182e1d"
 },
 "nbformat": 3,
 "nbformat_minor": 0,
 "worksheets": [
  {
   "cells": [
    {
     "cell_type": "code",
     "collapsed": false,
     "input": [
      "import pylab as plt\n",
      "import numpy as np\n",
      "import scipy.signal as signal\n",
      "fs = 10e3\n",
      "N = 1e5\n",
      "amp = 2*np.sqrt(2)\n",
      "freq = 1234.0\n",
      "noise_power = 0.001 * fs / 2\n",
      "time = np.arange(N) / fs\n",
      "x = amp*np.sin(2*np.pi*freq*time)\n",
      "x += amp*np.sin(2*np.pi*freq*4.0/3.0*time)\n",
      "x += np.random.normal(scale=np.sqrt(noise_power), size=time.shape)\n",
      "f, Pxx_den = signal.periodogram(x, fs)\n",
      "plt.semilogy(f, Pxx_den)\n",
      "plt.xlabel('frequency [Hz]')\n",
      "plt.ylabel('PSD [V**2/Hz]')\n",
      "plt.show()\n"
     ],
     "language": "python",
     "metadata": {},
     "outputs": []
    },
    {
     "cell_type": "code",
     "collapsed": false,
     "input": [],
     "language": "python",
     "metadata": {},
     "outputs": [],
     "prompt_number": 2
    },
    {
     "cell_type": "code",
     "collapsed": false,
     "input": [],
     "language": "python",
     "metadata": {},
     "outputs": [],
     "prompt_number": 3
    },
    {
     "cell_type": "code",
     "collapsed": false,
     "input": [],
     "language": "python",
     "metadata": {},
     "outputs": [
      {
       "ename": "NameError",
       "evalue": "name 'p' is not defined",
       "output_type": "pyerr",
       "traceback": [
        "\u001b[0;31m---------------------------------------------------------------------------\u001b[0m\n\u001b[0;31mNameError\u001b[0m                                 Traceback (most recent call last)",
        "\u001b[0;32m<ipython-input-4-a8681f2e026a>\u001b[0m in \u001b[0;36m<module>\u001b[0;34m()\u001b[0m\n\u001b[1;32m      1\u001b[0m \u001b[0;32mimport\u001b[0m \u001b[0mpylab\u001b[0m\u001b[0;34m\u001b[0m\u001b[0m\n\u001b[0;32m----> 2\u001b[0;31m \u001b[0mp\u001b[0m\u001b[0;34m\u001b[0m\u001b[0m\n\u001b[0m",
        "\u001b[0;31mNameError\u001b[0m: name 'p' is not defined"
       ]
      }
     ],
     "prompt_number": 4
    },
    {
     "cell_type": "code",
     "collapsed": false,
     "input": [],
     "language": "python",
     "metadata": {},
     "outputs": [],
     "prompt_number": 5
    },
    {
     "cell_type": "code",
     "collapsed": false,
     "input": [],
     "language": "python",
     "metadata": {},
     "outputs": []
    }
   ],
   "metadata": {}
  }
 ]
}