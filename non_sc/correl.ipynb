{
 "metadata": {
  "name": "",
  "signature": "sha256:73ef24c8b4448020f72757cfca9935ddbd7ed54ed3f1afd88d8c18f7e16bdbcf"
 },
 "nbformat": 3,
 "nbformat_minor": 0,
 "worksheets": [
  {
   "cells": [
    {
     "cell_type": "code",
     "collapsed": false,
     "input": [
      "import pylab as plt\n",
      "import numpy as np\n",
      "import scipy.signal as signal\n",
      "fs = 10e3\n",
      "N = 1e5\n",
      "amp = 2*np.sqrt(2)\n",
      "freq = 1234.0\n",
      "noise_power = 0.001 * fs / 2\n",
      "time = np.arange(N) / fs\n",
      "x = amp*np.sin(2*np.pi*freq*time)\n",
      "x += amp*np.sin(2*np.pi*freq*4.0/3.0*time)\n",
      "x += np.random.normal(scale=np.sqrt(noise_power), size=time.shape)\n",
      "f, Pxx_den = signal.periodogram(x, fs)\n",
      "plt.semilogy(f, Pxx_den)\n",
      "plt.xlabel('frequency [Hz]')\n",
      "plt.ylabel('PSD [V**2/Hz]')\n",
      "plt.show()\n"
     ],
     "language": "python",
     "metadata": {},
     "outputs": [
      {
       "metadata": {},
       "output_type": "display_data",
       "png": "[encoded data removed]",
       "text": [
        "<matplotlib.figure.Figure at 0x105bd4f10>"
       ]
      }
     ],
     "prompt_number": 1
    },
    {
     "cell_type": "code",
     "collapsed": false,
     "input": [
      "\"\"\"\n",
      "rapidly ananlyse a bunch of files for a particular autocorrelation profile\n",
      "\n",
      "see http://docs.scipy.org/doc/scipy/reference/tutorial/signal.html#b-splines for fast interpolation\n",
      "\n",
      "see also scipy.signal.periodogram and scipy.signal.welch, praps signal.lfilter and/or signa.correlate\n",
      "\n",
      "http://www.tau.ac.il/~kineret/amit/scipy_tutorial/\n",
      "http://hub.hku.hk/bitstream/10722/46311/1/71706.pdf?accept=1\n",
      "polyphase filtering is the right keyword\n",
      "http://cnx.org/content/m11657/latest/\n",
      "http://mechatronics.ece.usu.edu/yqchen/dd/index.html\n",
      "\"\"\"\n",
      "\n",
      "import os.path\n",
      "import sys\n",
      "import numpy as np\n",
      "import scipy.io.wavfile\n",
      "from scipy.signal import lfilter, decimate, lfilter_zi, iirfilter\n",
      "import wave\n",
      "import tempfile\n",
      "import subprocess\n",
      "import math\n",
      "\n",
      "SF_PATH = os.path.expanduser('~/src/sc/f_lustre/sounds/note_sweep.aif')\n",
      "BLOCKSIZE = 64 #downsample analysis by this many samples\n",
      "\n",
      "def load_wav(filename):\n",
      "    try:\n",
      "        wavedata=scipy.io.wavfile.read(filename)\n",
      "        samplerate=int(wavedata[0])\n",
      "        smp=wavedata[1]*(1.0/32768.0)\n",
      "        if len(smp.shape)>1: #convert to mono\n",
      "            smp=(smp[:,0]+smp[:,1])*0.5\n",
      "        return (samplerate,smp)\n",
      "    except:\n",
      "        print \"Error loading wav: \"+filename\n",
      "        return None\n",
      "\n",
      "def load_non_wav(filename):\n",
      "    #could really use some \n",
      "    newfilename = tempfile.NamedTemporaryFile(suffix=\".wav\", delete=False).name\n",
      "    subprocess.check_call([\n",
      "        \"sox\",\n",
      "        filename,\n",
      "        newfilename])\n",
      "    wav = load_wav(newfilename)\n",
      "    os.unlink(newfilename)\n",
      "    return wav\n",
      "\n",
      "sr, wav = load_non_wav(SF_PATH)\n",
      "wav2 = wav * wav\n",
      "\n",
      "freq = 440.0\n",
      "offset = round(float(sr)/freq)\n",
      "cov = np.zeros_like(wav)\n",
      "cov[offset:] = wav[offset:]*wav[:-offset]\n",
      "#ratio = math.exp(math.log(WAVELEN_DECAY)/offset)\n",
      "rel_f = freq/(float(sr)/2.0) # relative to nyquist freq, not samplerate\n",
      "a, b = iirfilter(N=1, Wn=rel_f, btype='lowpass', ftype='butter') # or ftype='bessel'?\n",
      "# inital conditions:\n",
      "zi = lfilter_zi(a, b) # if we wish to initialize the filter to non-zero val\n",
      "smooth_cov, zf = lfilter(a, b, cov, zi=zi*0)\n",
      "smooth_wav2, zf = lfilter(a, b, wav2, zi=zi*0)\n",
      "corr = smooth_cov/np.maximum(smooth_wav2, 0.000001)\n",
      "\n",
      "small_corr =  decimate(smooth_cov/np.maximum(smooth_wav2, 0.000001), BLOCKSIZE, ftype='iir')\n"
     ],
     "language": "python",
     "metadata": {},
     "outputs": [],
     "prompt_number": 16
    },
    {
     "cell_type": "code",
     "collapsed": false,
     "input": [
      "corr"
     ],
     "language": "python",
     "metadata": {},
     "outputs": [
      {
       "metadata": {},
       "output_type": "pyout",
       "prompt_number": 6,
       "text": [
        "array([  0.00000000e+00,   0.00000000e+00,   1.47017479e+00, ...,\n",
        "        -2.93555961e+07,  -2.93373734e+07,  -2.93717650e+07])"
       ]
      }
     ],
     "prompt_number": 6
    },
    {
     "cell_type": "code",
     "collapsed": false,
     "input": [
      "plt.plot(corr)"
     ],
     "language": "python",
     "metadata": {},
     "outputs": [
      {
       "metadata": {},
       "output_type": "pyout",
       "prompt_number": 17,
       "text": [
        "[<matplotlib.lines.Line2D at 0x1124dec50>]"
       ]
      },
      {
       "metadata": {},
       "output_type": "display_data",
       "png": "[encoded data removed]",
       "text": [
        "<matplotlib.figure.Figure at 0x1085a28d0>"
       ]
      }
     ],
     "prompt_number": 17
    },
    {
     "cell_type": "code",
     "collapsed": false,
     "input": [
      "min(wav2)"
     ],
     "language": "python",
     "metadata": {},
     "outputs": [
      {
       "metadata": {},
       "output_type": "pyout",
       "prompt_number": 12,
       "text": [
        "0.0"
       ]
      }
     ],
     "prompt_number": 12
    },
    {
     "cell_type": "code",
     "collapsed": false,
     "input": [],
     "language": "python",
     "metadata": {},
     "outputs": []
    }
   ],
   "metadata": {}
  }
 ]
}